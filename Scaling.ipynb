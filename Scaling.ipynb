{
 "cells": [
  {
   "cell_type": "code",
   "execution_count": 1,
   "metadata": {
    "executionInfo": {
     "elapsed": 473,
     "status": "ok",
     "timestamp": 1649487168560,
     "user": {
      "displayName": "abhi arjun",
      "userId": "18055772853659977353"
     },
     "user_tz": -330
    },
    "id": "O6kbXDL4BSn0"
   },
   "outputs": [],
   "source": [
    "# Scaler -> transform data from one distribution to other distribution\n",
    "# one dimenstion to other dimension\n",
    "\n",
    "# Bring all Columns into Particular Range "
   ]
  },
  {
   "cell_type": "code",
   "execution_count": 2,
   "metadata": {
    "executionInfo": {
     "elapsed": 15,
     "status": "ok",
     "timestamp": 1649487169112,
     "user": {
      "displayName": "abhi arjun",
      "userId": "18055772853659977353"
     },
     "user_tz": -330
    },
    "id": "rp2QgXz6Deqj"
   },
   "outputs": [],
   "source": [
    "import numpy as np # \n",
    "import pandas as pd # index, columns \n",
    "import matplotlib.pyplot as plt \n",
    "import seaborn as sns\n",
    "\n",
    "plt.rcParams[\"figure.figsize\"] = (16,10)"
   ]
  },
  {
   "cell_type": "code",
   "execution_count": 3,
   "metadata": {
    "colab": {
     "base_uri": "https://localhost:8080/",
     "height": 204
    },
    "executionInfo": {
     "elapsed": 14,
     "status": "ok",
     "timestamp": 1649487169113,
     "user": {
      "displayName": "abhi arjun",
      "userId": "18055772853659977353"
     },
     "user_tz": -330
    },
    "id": "bt19pPp8Di9A",
    "outputId": "a018a36d-a29d-4faf-9050-72c4c94521e4"
   },
   "outputs": [
    {
     "data": {
      "text/html": [
       "<div>\n",
       "<style scoped>\n",
       "    .dataframe tbody tr th:only-of-type {\n",
       "        vertical-align: middle;\n",
       "    }\n",
       "\n",
       "    .dataframe tbody tr th {\n",
       "        vertical-align: top;\n",
       "    }\n",
       "\n",
       "    .dataframe thead th {\n",
       "        text-align: right;\n",
       "    }\n",
       "</style>\n",
       "<table border=\"1\" class=\"dataframe\">\n",
       "  <thead>\n",
       "    <tr style=\"text-align: right;\">\n",
       "      <th></th>\n",
       "      <th>longitude</th>\n",
       "      <th>latitude</th>\n",
       "      <th>housing_median_age</th>\n",
       "      <th>total_rooms</th>\n",
       "      <th>total_bedrooms</th>\n",
       "      <th>population</th>\n",
       "      <th>households</th>\n",
       "      <th>median_income</th>\n",
       "      <th>median_house_value</th>\n",
       "    </tr>\n",
       "  </thead>\n",
       "  <tbody>\n",
       "    <tr>\n",
       "      <th>0</th>\n",
       "      <td>-114.31</td>\n",
       "      <td>34.19</td>\n",
       "      <td>15.0</td>\n",
       "      <td>5612.0</td>\n",
       "      <td>1283.0</td>\n",
       "      <td>1015.0</td>\n",
       "      <td>472.0</td>\n",
       "      <td>1.4936</td>\n",
       "      <td>66900.0</td>\n",
       "    </tr>\n",
       "    <tr>\n",
       "      <th>1</th>\n",
       "      <td>-114.47</td>\n",
       "      <td>34.40</td>\n",
       "      <td>19.0</td>\n",
       "      <td>7650.0</td>\n",
       "      <td>1901.0</td>\n",
       "      <td>1129.0</td>\n",
       "      <td>463.0</td>\n",
       "      <td>1.8200</td>\n",
       "      <td>80100.0</td>\n",
       "    </tr>\n",
       "    <tr>\n",
       "      <th>2</th>\n",
       "      <td>-114.56</td>\n",
       "      <td>33.69</td>\n",
       "      <td>17.0</td>\n",
       "      <td>720.0</td>\n",
       "      <td>174.0</td>\n",
       "      <td>333.0</td>\n",
       "      <td>117.0</td>\n",
       "      <td>1.6509</td>\n",
       "      <td>85700.0</td>\n",
       "    </tr>\n",
       "    <tr>\n",
       "      <th>3</th>\n",
       "      <td>-114.57</td>\n",
       "      <td>33.64</td>\n",
       "      <td>14.0</td>\n",
       "      <td>1501.0</td>\n",
       "      <td>337.0</td>\n",
       "      <td>515.0</td>\n",
       "      <td>226.0</td>\n",
       "      <td>3.1917</td>\n",
       "      <td>73400.0</td>\n",
       "    </tr>\n",
       "    <tr>\n",
       "      <th>4</th>\n",
       "      <td>-114.57</td>\n",
       "      <td>33.57</td>\n",
       "      <td>20.0</td>\n",
       "      <td>1454.0</td>\n",
       "      <td>326.0</td>\n",
       "      <td>624.0</td>\n",
       "      <td>262.0</td>\n",
       "      <td>1.9250</td>\n",
       "      <td>65500.0</td>\n",
       "    </tr>\n",
       "  </tbody>\n",
       "</table>\n",
       "</div>"
      ],
      "text/plain": [
       "   longitude  latitude  housing_median_age  total_rooms  total_bedrooms  \\\n",
       "0    -114.31     34.19                15.0       5612.0          1283.0   \n",
       "1    -114.47     34.40                19.0       7650.0          1901.0   \n",
       "2    -114.56     33.69                17.0        720.0           174.0   \n",
       "3    -114.57     33.64                14.0       1501.0           337.0   \n",
       "4    -114.57     33.57                20.0       1454.0           326.0   \n",
       "\n",
       "   population  households  median_income  median_house_value  \n",
       "0      1015.0       472.0         1.4936             66900.0  \n",
       "1      1129.0       463.0         1.8200             80100.0  \n",
       "2       333.0       117.0         1.6509             85700.0  \n",
       "3       515.0       226.0         3.1917             73400.0  \n",
       "4       624.0       262.0         1.9250             65500.0  "
      ]
     },
     "execution_count": 3,
     "metadata": {},
     "output_type": "execute_result"
    }
   ],
   "source": [
    "data = pd.read_csv(\"california_housing_train.csv\")\n",
    "data.head()"
   ]
  },
  {
   "cell_type": "markdown",
   "metadata": {},
   "source": [
    "# MinMax Scaler - (Normalization)"
   ]
  },
  {
   "cell_type": "code",
   "execution_count": 4,
   "metadata": {
    "executionInfo": {
     "elapsed": 5,
     "status": "ok",
     "timestamp": 1649487169799,
     "user": {
      "displayName": "abhi arjun",
      "userId": "18055772853659977353"
     },
     "user_tz": -330
    },
    "id": "ABkqg26fCo0f"
   },
   "outputs": [],
   "source": [
    "# 1. Brings value between 0 - 1 \n",
    "# formula - (val - col min)/(col max - col min)\n",
    "\n",
    "from sklearn.preprocessing import MinMaxScaler \n",
    "\n",
    "Scaler = MinMaxScaler()\n",
    "# Scaler.fit(data) # scaler learns ranges \n",
    "# scaled_data = Scaler.transform(data) # transforms \n",
    "scaled_data = Scaler.fit_transform(data)\n",
    "scaled_data = pd.DataFrame(scaled_data, columns = data.columns)"
   ]
  },
  {
   "cell_type": "code",
   "execution_count": 5,
   "metadata": {
    "colab": {
     "base_uri": "https://localhost:8080/",
     "height": 204
    },
    "executionInfo": {
     "elapsed": 10,
     "status": "ok",
     "timestamp": 1649487170285,
     "user": {
      "displayName": "abhi arjun",
      "userId": "18055772853659977353"
     },
     "user_tz": -330
    },
    "id": "_hEjDxrjD8rt",
    "outputId": "bbb1340c-7f85-49a9-9002-49b48f4db812"
   },
   "outputs": [
    {
     "data": {
      "text/html": [
       "<div>\n",
       "<style scoped>\n",
       "    .dataframe tbody tr th:only-of-type {\n",
       "        vertical-align: middle;\n",
       "    }\n",
       "\n",
       "    .dataframe tbody tr th {\n",
       "        vertical-align: top;\n",
       "    }\n",
       "\n",
       "    .dataframe thead th {\n",
       "        text-align: right;\n",
       "    }\n",
       "</style>\n",
       "<table border=\"1\" class=\"dataframe\">\n",
       "  <thead>\n",
       "    <tr style=\"text-align: right;\">\n",
       "      <th></th>\n",
       "      <th>longitude</th>\n",
       "      <th>latitude</th>\n",
       "      <th>housing_median_age</th>\n",
       "      <th>total_rooms</th>\n",
       "      <th>total_bedrooms</th>\n",
       "      <th>population</th>\n",
       "      <th>households</th>\n",
       "      <th>median_income</th>\n",
       "      <th>median_house_value</th>\n",
       "    </tr>\n",
       "  </thead>\n",
       "  <tbody>\n",
       "    <tr>\n",
       "      <th>0</th>\n",
       "      <td>1.000000</td>\n",
       "      <td>0.175345</td>\n",
       "      <td>0.274510</td>\n",
       "      <td>0.147885</td>\n",
       "      <td>0.198945</td>\n",
       "      <td>0.028364</td>\n",
       "      <td>0.077454</td>\n",
       "      <td>0.068530</td>\n",
       "      <td>0.107012</td>\n",
       "    </tr>\n",
       "    <tr>\n",
       "      <th>1</th>\n",
       "      <td>0.984064</td>\n",
       "      <td>0.197662</td>\n",
       "      <td>0.352941</td>\n",
       "      <td>0.201608</td>\n",
       "      <td>0.294848</td>\n",
       "      <td>0.031559</td>\n",
       "      <td>0.075974</td>\n",
       "      <td>0.091040</td>\n",
       "      <td>0.134228</td>\n",
       "    </tr>\n",
       "    <tr>\n",
       "      <th>2</th>\n",
       "      <td>0.975100</td>\n",
       "      <td>0.122210</td>\n",
       "      <td>0.313725</td>\n",
       "      <td>0.018927</td>\n",
       "      <td>0.026847</td>\n",
       "      <td>0.009249</td>\n",
       "      <td>0.019076</td>\n",
       "      <td>0.079378</td>\n",
       "      <td>0.145775</td>\n",
       "    </tr>\n",
       "    <tr>\n",
       "      <th>3</th>\n",
       "      <td>0.974104</td>\n",
       "      <td>0.116897</td>\n",
       "      <td>0.254902</td>\n",
       "      <td>0.039515</td>\n",
       "      <td>0.052142</td>\n",
       "      <td>0.014350</td>\n",
       "      <td>0.037000</td>\n",
       "      <td>0.185639</td>\n",
       "      <td>0.120414</td>\n",
       "    </tr>\n",
       "    <tr>\n",
       "      <th>4</th>\n",
       "      <td>0.974104</td>\n",
       "      <td>0.109458</td>\n",
       "      <td>0.372549</td>\n",
       "      <td>0.038276</td>\n",
       "      <td>0.050435</td>\n",
       "      <td>0.017405</td>\n",
       "      <td>0.042921</td>\n",
       "      <td>0.098281</td>\n",
       "      <td>0.104125</td>\n",
       "    </tr>\n",
       "  </tbody>\n",
       "</table>\n",
       "</div>"
      ],
      "text/plain": [
       "   longitude  latitude  housing_median_age  total_rooms  total_bedrooms  \\\n",
       "0   1.000000  0.175345            0.274510     0.147885        0.198945   \n",
       "1   0.984064  0.197662            0.352941     0.201608        0.294848   \n",
       "2   0.975100  0.122210            0.313725     0.018927        0.026847   \n",
       "3   0.974104  0.116897            0.254902     0.039515        0.052142   \n",
       "4   0.974104  0.109458            0.372549     0.038276        0.050435   \n",
       "\n",
       "   population  households  median_income  median_house_value  \n",
       "0    0.028364    0.077454       0.068530            0.107012  \n",
       "1    0.031559    0.075974       0.091040            0.134228  \n",
       "2    0.009249    0.019076       0.079378            0.145775  \n",
       "3    0.014350    0.037000       0.185639            0.120414  \n",
       "4    0.017405    0.042921       0.098281            0.104125  "
      ]
     },
     "execution_count": 5,
     "metadata": {},
     "output_type": "execute_result"
    }
   ],
   "source": [
    "scaled_data.head()"
   ]
  },
  {
   "cell_type": "code",
   "execution_count": 6,
   "metadata": {
    "colab": {
     "base_uri": "https://localhost:8080/"
    },
    "executionInfo": {
     "elapsed": 11,
     "status": "ok",
     "timestamp": 1649486611104,
     "user": {
      "displayName": "abhi arjun",
      "userId": "18055772853659977353"
     },
     "user_tz": -330
    },
    "id": "C9Y0GC14D_tW",
    "outputId": "7a1f2132-e5bf-48f2-afeb-389c192fb85c"
   },
   "outputs": [
    {
     "data": {
      "text/plain": [
       "(longitude             0.0\n",
       " latitude              0.0\n",
       " housing_median_age    0.0\n",
       " total_rooms           0.0\n",
       " total_bedrooms        0.0\n",
       " population            0.0\n",
       " households            0.0\n",
       " median_income         0.0\n",
       " median_house_value    0.0\n",
       " dtype: float64,\n",
       " longitude             1.0\n",
       " latitude              1.0\n",
       " housing_median_age    1.0\n",
       " total_rooms           1.0\n",
       " total_bedrooms        1.0\n",
       " population            1.0\n",
       " households            1.0\n",
       " median_income         1.0\n",
       " median_house_value    1.0\n",
       " dtype: float64)"
      ]
     },
     "execution_count": 6,
     "metadata": {},
     "output_type": "execute_result"
    }
   ],
   "source": [
    "scaled_data.min(), scaled_data.max()"
   ]
  },
  {
   "cell_type": "markdown",
   "metadata": {},
   "source": [
    "# Standard Scaler - (Standardization)"
   ]
  },
  {
   "cell_type": "code",
   "execution_count": 7,
   "metadata": {
    "executionInfo": {
     "elapsed": 13,
     "status": "ok",
     "timestamp": 1649486948013,
     "user": {
      "displayName": "abhi arjun",
      "userId": "18055772853659977353"
     },
     "user_tz": -330
    },
    "id": "jF4WG4gYCtok"
   },
   "outputs": [],
   "source": [
    "# more grounded in statistics \n",
    "# mean => 0, std => 1 (Normal, Gaussian)\n",
    "# formula = (val - mean)/std\n",
    "\n",
    "from sklearn.preprocessing import StandardScaler # Anytime \n",
    "\n",
    "Scaler = StandardScaler()\n",
    "Scaler.fit(data)\n",
    "scaled_data = Scaler.transform(data) \n",
    "scaled_data = pd.DataFrame(scaled_data, columns = data.columns)"
   ]
  },
  {
   "cell_type": "code",
   "execution_count": 8,
   "metadata": {
    "colab": {
     "base_uri": "https://localhost:8080/",
     "height": 204
    },
    "executionInfo": {
     "elapsed": 15,
     "status": "ok",
     "timestamp": 1649486954877,
     "user": {
      "displayName": "abhi arjun",
      "userId": "18055772853659977353"
     },
     "user_tz": -330
    },
    "id": "tk2P1G63FWKP",
    "outputId": "60b51a93-2c3a-4ec8-9042-600ca12f5f50"
   },
   "outputs": [
    {
     "data": {
      "text/html": [
       "<div>\n",
       "<style scoped>\n",
       "    .dataframe tbody tr th:only-of-type {\n",
       "        vertical-align: middle;\n",
       "    }\n",
       "\n",
       "    .dataframe tbody tr th {\n",
       "        vertical-align: top;\n",
       "    }\n",
       "\n",
       "    .dataframe thead th {\n",
       "        text-align: right;\n",
       "    }\n",
       "</style>\n",
       "<table border=\"1\" class=\"dataframe\">\n",
       "  <thead>\n",
       "    <tr style=\"text-align: right;\">\n",
       "      <th></th>\n",
       "      <th>longitude</th>\n",
       "      <th>latitude</th>\n",
       "      <th>housing_median_age</th>\n",
       "      <th>total_rooms</th>\n",
       "      <th>total_bedrooms</th>\n",
       "      <th>population</th>\n",
       "      <th>households</th>\n",
       "      <th>median_income</th>\n",
       "      <th>median_house_value</th>\n",
       "    </tr>\n",
       "  </thead>\n",
       "  <tbody>\n",
       "    <tr>\n",
       "      <th>0</th>\n",
       "      <td>2.619365</td>\n",
       "      <td>-0.671520</td>\n",
       "      <td>-1.079671</td>\n",
       "      <td>1.361695</td>\n",
       "      <td>1.764204</td>\n",
       "      <td>-0.361184</td>\n",
       "      <td>-0.075998</td>\n",
       "      <td>-1.252543</td>\n",
       "      <td>-1.210558</td>\n",
       "    </tr>\n",
       "    <tr>\n",
       "      <th>1</th>\n",
       "      <td>2.539569</td>\n",
       "      <td>-0.573264</td>\n",
       "      <td>-0.761872</td>\n",
       "      <td>2.296608</td>\n",
       "      <td>3.230441</td>\n",
       "      <td>-0.261865</td>\n",
       "      <td>-0.099404</td>\n",
       "      <td>-1.081483</td>\n",
       "      <td>-1.096745</td>\n",
       "    </tr>\n",
       "    <tr>\n",
       "      <th>2</th>\n",
       "      <td>2.494683</td>\n",
       "      <td>-0.905463</td>\n",
       "      <td>-0.920772</td>\n",
       "      <td>-0.882462</td>\n",
       "      <td>-0.866956</td>\n",
       "      <td>-0.955354</td>\n",
       "      <td>-0.999252</td>\n",
       "      <td>-1.170105</td>\n",
       "      <td>-1.048461</td>\n",
       "    </tr>\n",
       "    <tr>\n",
       "      <th>3</th>\n",
       "      <td>2.489696</td>\n",
       "      <td>-0.928857</td>\n",
       "      <td>-1.159121</td>\n",
       "      <td>-0.524186</td>\n",
       "      <td>-0.480230</td>\n",
       "      <td>-0.796793</td>\n",
       "      <td>-0.715774</td>\n",
       "      <td>-0.362600</td>\n",
       "      <td>-1.154514</td>\n",
       "    </tr>\n",
       "    <tr>\n",
       "      <th>4</th>\n",
       "      <td>2.489696</td>\n",
       "      <td>-0.961609</td>\n",
       "      <td>-0.682422</td>\n",
       "      <td>-0.545747</td>\n",
       "      <td>-0.506328</td>\n",
       "      <td>-0.701830</td>\n",
       "      <td>-0.622148</td>\n",
       "      <td>-1.026454</td>\n",
       "      <td>-1.222629</td>\n",
       "    </tr>\n",
       "  </tbody>\n",
       "</table>\n",
       "</div>"
      ],
      "text/plain": [
       "   longitude  latitude  housing_median_age  total_rooms  total_bedrooms  \\\n",
       "0   2.619365 -0.671520           -1.079671     1.361695        1.764204   \n",
       "1   2.539569 -0.573264           -0.761872     2.296608        3.230441   \n",
       "2   2.494683 -0.905463           -0.920772    -0.882462       -0.866956   \n",
       "3   2.489696 -0.928857           -1.159121    -0.524186       -0.480230   \n",
       "4   2.489696 -0.961609           -0.682422    -0.545747       -0.506328   \n",
       "\n",
       "   population  households  median_income  median_house_value  \n",
       "0   -0.361184   -0.075998      -1.252543           -1.210558  \n",
       "1   -0.261865   -0.099404      -1.081483           -1.096745  \n",
       "2   -0.955354   -0.999252      -1.170105           -1.048461  \n",
       "3   -0.796793   -0.715774      -0.362600           -1.154514  \n",
       "4   -0.701830   -0.622148      -1.026454           -1.222629  "
      ]
     },
     "execution_count": 8,
     "metadata": {},
     "output_type": "execute_result"
    }
   ],
   "source": [
    "scaled_data.head()"
   ]
  },
  {
   "cell_type": "code",
   "execution_count": 9,
   "metadata": {
    "colab": {
     "base_uri": "https://localhost:8080/"
    },
    "executionInfo": {
     "elapsed": 7,
     "status": "ok",
     "timestamp": 1649487040606,
     "user": {
      "displayName": "abhi arjun",
      "userId": "18055772853659977353"
     },
     "user_tz": -330
    },
    "id": "fmvkhdn7FrPy",
    "outputId": "35607db3-60e5-4275-a302-004414e048be"
   },
   "outputs": [
    {
     "data": {
      "text/plain": [
       "longitude            -9.134288e-15\n",
       "latitude             -1.540258e-15\n",
       "housing_median_age   -9.654238e-16\n",
       "total_rooms           7.481924e-17\n",
       "total_bedrooms        1.571553e-16\n",
       "population            2.034190e-16\n",
       "households           -5.476012e-17\n",
       "median_income        -3.849894e-16\n",
       "median_house_value   -2.267467e-16\n",
       "dtype: float64"
      ]
     },
     "execution_count": 9,
     "metadata": {},
     "output_type": "execute_result"
    }
   ],
   "source": [
    "scaled_data.mean()"
   ]
  },
  {
   "cell_type": "code",
   "execution_count": 10,
   "metadata": {
    "colab": {
     "base_uri": "https://localhost:8080/"
    },
    "executionInfo": {
     "elapsed": 690,
     "status": "ok",
     "timestamp": 1649487060873,
     "user": {
      "displayName": "abhi arjun",
      "userId": "18055772853659977353"
     },
     "user_tz": -330
    },
    "id": "_OmLUCViFwOB",
    "outputId": "9a3e7721-fd98-48c6-b765-72e002cbcd31"
   },
   "outputs": [
    {
     "data": {
      "text/plain": [
       "longitude             1.000029\n",
       "latitude              1.000029\n",
       "housing_median_age    1.000029\n",
       "total_rooms           1.000029\n",
       "total_bedrooms        1.000029\n",
       "population            1.000029\n",
       "households            1.000029\n",
       "median_income         1.000029\n",
       "median_house_value    1.000029\n",
       "dtype: float64"
      ]
     },
     "execution_count": 10,
     "metadata": {},
     "output_type": "execute_result"
    }
   ],
   "source": [
    "scaled_data.std()"
   ]
  },
  {
   "cell_type": "code",
   "execution_count": 11,
   "metadata": {
    "colab": {
     "base_uri": "https://localhost:8080/"
    },
    "executionInfo": {
     "elapsed": 486,
     "status": "ok",
     "timestamp": 1649487004853,
     "user": {
      "displayName": "abhi arjun",
      "userId": "18055772853659977353"
     },
     "user_tz": -330
    },
    "id": "y2on63XFFX0b",
    "outputId": "abe92db8-4ac3-4d65-bc33-67aa816a8fdd"
   },
   "outputs": [
    {
     "data": {
      "text/plain": [
       "(longitude            -2.387848\n",
       " latitude             -1.443531\n",
       " housing_median_age   -2.191968\n",
       " total_rooms          -1.211838\n",
       " total_bedrooms       -1.277408\n",
       " population           -1.242856\n",
       " households           -1.300935\n",
       " median_income        -1.773323\n",
       " median_house_value   -1.658056\n",
       " dtype: float64,\n",
       " longitude              2.619365\n",
       " latitude               2.959268\n",
       " housing_median_age     1.859971\n",
       " total_rooms           16.190473\n",
       " total_bedrooms        14.011318\n",
       " population            29.841308\n",
       " households            14.514017\n",
       " median_income          5.825963\n",
       " median_house_value     2.523704\n",
       " dtype: float64)"
      ]
     },
     "execution_count": 11,
     "metadata": {},
     "output_type": "execute_result"
    }
   ],
   "source": [
    "scaled_data.min(), scaled_data.max()"
   ]
  },
  {
   "cell_type": "code",
   "execution_count": null,
   "metadata": {},
   "outputs": [],
   "source": []
  }
 ],
 "metadata": {
  "colab": {
   "authorship_tag": "ABX9TyPVU/cOY55KW5Mj1/CClCq3",
   "collapsed_sections": [],
   "name": "Scalers.ipynb",
   "provenance": []
  },
  "kernelspec": {
   "display_name": "Python 3",
   "language": "python",
   "name": "python3"
  },
  "language_info": {
   "codemirror_mode": {
    "name": "ipython",
    "version": 3
   },
   "file_extension": ".py",
   "mimetype": "text/x-python",
   "name": "python",
   "nbconvert_exporter": "python",
   "pygments_lexer": "ipython3",
   "version": "3.8.8"
  }
 },
 "nbformat": 4,
 "nbformat_minor": 1
}
